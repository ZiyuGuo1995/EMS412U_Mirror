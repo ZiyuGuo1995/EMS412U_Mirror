{
 "cells": [
  {
   "cell_type": "markdown",
   "id": "5a511715",
   "metadata": {},
   "source": [
    "Q1: given two variables (number1 and number2) with numerical values, write a piece of code that prints which is the larger, of if they are the same\n",
    "    "
   ]
  },
  {
   "cell_type": "code",
   "execution_count": null,
   "id": "aa4cdc7f",
   "metadata": {},
   "outputs": [],
   "source": [
    "number1 = #put a number in here\n",
    "number2 =  #put a number in here\n",
    "# write your codes below.\n"
   ]
  },
  {
   "cell_type": "markdown",
   "id": "e6ff4c34",
   "metadata": {},
   "source": [
    "Q2: can you write a bit of code that prints a statement telling me whether a variable with an integer value is even or odd. To do this  we use the % modulo operator ( a%2 = 0 if even, and a%2=1 if odd)\n"
   ]
  },
  {
   "cell_type": "code",
   "execution_count": null,
   "id": "9364720e",
   "metadata": {},
   "outputs": [],
   "source": [
    "my_number =  # give it an integer value\n",
    "# put your code here."
   ]
  },
  {
   "cell_type": "markdown",
   "id": "0200f671",
   "metadata": {},
   "source": [
    "Q3: write a bit of code that checks whether at a quadratic function has two real roots and to compute them if it does. So given the values a,b,c find, if they exist, the roots of ax^2 + bx + c .\n",
    "If there are not 2 real roots, then get the code to print a statement saying so (you will learn comlex numbers at a later date in your degree)."
   ]
  },
  {
   "cell_type": "code",
   "execution_count": null,
   "id": "cf794979",
   "metadata": {},
   "outputs": [],
   "source": [
    "a =   # put your value here\n",
    "b =   # put your value here\n",
    "c =   # put your value here\n",
    "# put the code here."
   ]
  },
  {
   "cell_type": "markdown",
   "id": "25e98d9c",
   "metadata": {},
   "source": [
    "Q4: create a bit of code that loops through the numbers 1 to 100, and sums up all the odd numbers together and sums the even numbers together. For this you will need to have a loop and if statement inside it!! You will also need to use the % (the modulo) you learnt last time to see if a number is odd or even."
   ]
  },
  {
   "cell_type": "code",
   "execution_count": 1,
   "id": "424b4edc",
   "metadata": {},
   "outputs": [],
   "source": [
    "# put your code here"
   ]
  }
 ],
 "metadata": {
  "kernelspec": {
   "display_name": "Python 3 (ipykernel)",
   "language": "python",
   "name": "python3"
  },
  "language_info": {
   "codemirror_mode": {
    "name": "ipython",
    "version": 3
   },
   "file_extension": ".py",
   "mimetype": "text/x-python",
   "name": "python",
   "nbconvert_exporter": "python",
   "pygments_lexer": "ipython3",
   "version": "3.9.15"
  }
 },
 "nbformat": 4,
 "nbformat_minor": 5
}
