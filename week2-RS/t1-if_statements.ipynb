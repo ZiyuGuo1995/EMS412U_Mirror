{
 "cells": [
  {
   "cell_type": "markdown",
   "id": "395c3592",
   "metadata": {},
   "source": [
    "In this tutorial, we are going to learn about branching or \"if statements\". \"If statements\" allow you to execute parts of a code when certain conditions are met, and not to execute them when those conditions are not met. You can also build up and check a series of different conditions and only execute bits of code specific to these conditions. Again it is easier to show you a simple \"if statement\" example to illustrate how this works, and we will go through the lines after.\n",
    "\n",
    "So to start, let's write a code that will check whether a variable's numerical value is greater than 10, and print a message when it is greater than 10. Run the following code:\n"
   ]
  },
  {
   "cell_type": "code",
   "execution_count": null,
   "id": "89c21e5c",
   "metadata": {},
   "outputs": [],
   "source": [
    "# set your variable's value.\n",
    "my_number = 11\n",
    "# for the if statement to check whether your number if greater than 10.\n",
    "if my_number > 10 :\n",
    "    # if greater then print a mesAage\n",
    "    print('your number is greater than 10 ')"
   ]
  },
  {
   "cell_type": "markdown",
   "id": "36c6d571",
   "metadata": {},
   "source": [
    "So you will hopefully see the statement 'your number is greater than 10 ' printed out. Now you can play with this and change the my_number variable's values to greater or lower than 10, also have a look at when its value is 10, does the print work? We will find out why shortly."
   ]
  },
  {
   "cell_type": "markdown",
   "id": "fef817a0",
   "metadata": {},
   "source": [
    "So how does this work? Firstly it all starts with the \"if\" word to tell Python what it is about to perform an if statement. After this python need to check whether something after it (a boolean-type data if you remember) is true or not. If the input is true, then the code block of this if statement will be executed, otherwise, it will be skipped. In our case, we want to see whether our number is greater than 10. So you will see that, following the if statement, there is a comparison operation \"my_number > 10\".  Here the > is the greater than sign, and it works in the same way as you are used to in your maths class. So this statement is checked and would be True if the my_number is greater than 10, and False if it is not. If it is True then Python will execute the code that follows.\n",
    "\n",
    "Now here is the trick again! If the condition is found to be True - i.e. our my_number is greater than 10, then how does it know how many lines to execute and when to stop? Well, once again it comes back to that indentation of the code, and in fact, it works in an identical way to the \"for loops\" or declaration of functions! That is, if the statement is True, python will execute all the following lines that are indented, and will stop when the code goes back to the original position. So in our example, there are only two lines, one of which is a comment. But these lines are indented (4 spaces in)  so will be executed when \"my_number > 10\". Another thing you need to remember is the \n",
    "\n",
    "So to illustrate this working with multiple lines of code within the if statement and something following its completion we could write:"
   ]
  },
  {
   "cell_type": "code",
   "execution_count": null,
   "id": "84085593",
   "metadata": {},
   "outputs": [],
   "source": [
    "# set your variable's value.\n",
    "my_number = 11\n",
    "# for the if statement to check whether your number if greater than 10.\n",
    "if my_number > 10 :\n",
    "    # if greater then print a mesAage\n",
    "    print('your number is greater than 10 ')\n",
    "    x = 4\n",
    "    y = 5\n",
    "    print('lots of pointless lines in this if statement - but it shows how it works, by the way x+y= ',x+y)\n",
    "print('look i have come back to the start position to kill off the if statement')\n"
   ]
  },
  {
   "cell_type": "markdown",
   "id": "6462029e",
   "metadata": {},
   "source": [
    "Run the lines above and change the my_number value to less than 10, you should see how it now works.\n",
    "\n",
    "NUMERICAL LOGICAL STATEMENTS:\n",
    "\n",
    "You will see we have used \">\" to represent greater than, but there are of course the other operators that can be used in Python (as in all languages) within these logical statements. there are:\n",
    "\n",
    "<  less than\n",
    "> greater than\n",
    ">= is greater than or equal to\n",
    "<= is less than or equal to.\n",
    "!= is not equal to\n",
    "== is equal to\n",
    "\n",
    "you can practice these in the following by changing the two variable numbers."
   ]
  },
  {
   "cell_type": "code",
   "execution_count": null,
   "id": "838316cc",
   "metadata": {},
   "outputs": [],
   "source": [
    "my_number = 10\n",
    "your_number = 11\n",
    "print('my number is ',my_number,' your number is ',your_number)\n",
    "if my_number ==  your_number :\n",
    "   print('my number is equal to your number')\n",
    "\n",
    "if my_number !=  your_number :\n",
    "   print('my number is not equal to your number')\n",
    "\n",
    "if my_number >=  your_number :\n",
    "   print('my number is greater than or equal to your number')\n",
    "\n",
    "if my_number <=  your_number :\n",
    "   print('my number is less than or equal to your number')\n",
    "\n",
    "\n"
   ]
  },
  {
   "cell_type": "markdown",
   "id": "f11b6104",
   "metadata": {},
   "source": [
    "Next, we are going to perform multiple if statements which work in the same way as above, but allow Python to check and execute code from one condition after another, after another. To do this we use the following \"if, elif, else\" statements:\n",
    "\n",
    "if condition1 :\n",
    "   execute code\n",
    "elif condition2 :\n",
    "   execute code\n",
    "elif condition3 :\n",
    "   exeute code\n",
    "else :\n",
    "   execute code\n",
    "\n",
    "If one of the conditions comes back as True, then again the code that follows the condition is executed - using the indentation! Note that only the first True statement is executed and the rest are ignored. The final else is used to execute some code when all the previous if statements were False.\n",
    "\n",
    "Again, doing this by example is the easiest, and here we will write some code to determine whether a variable's values are between 0-10, 11-100, 101-1000 or greater than 1000. You can change the value of my_number to see how this works."
   ]
  },
  {
   "cell_type": "code",
   "execution_count": null,
   "id": "011aa45e",
   "metadata": {
    "vscode": {
     "languageId": "plaintext"
    }
   },
   "outputs": [],
   "source": [
    "# set your variable's value.\n",
    "my_number = 1001\n",
    "# for the if statement to check whether your number if greater than 10.\n",
    "if my_number <= 10 :\n",
    "    print(my_number, ' is less than or equal to 10' )\n",
    "elif my_number <= 100 :\n",
    "    print(my_number, ' is less than or equal to 100 but greater than 10' )\n",
    "elif my_number <= 1000 :\n",
    "    print(my_number, ' is less than or equal to 1000 but greater than 100' )\n",
    "else:\n",
    "     print(my_number, ' is greater than 1000')\n",
    "    "
   ]
  },
  {
   "cell_type": "markdown",
   "id": "3fe6bc98",
   "metadata": {},
   "source": [
    "Now your turn, can you extend the code above to print a message to say is within 1000-10000, and 10000-100000? the same code is below for you to paly with:"
   ]
  },
  {
   "cell_type": "code",
   "execution_count": 15,
   "id": "22199b3e",
   "metadata": {},
   "outputs": [],
   "source": [
    "# set your variable's value.\n",
    "my_number = 1001\n",
    "# for the if statement to check whether your number if greater than 10.\n",
    "if my_number <= 10 :\n",
    "    print(my_number, ' is less than or equal to 10' )\n",
    "elif my_number <= 100 :\n",
    "    print(my_number, ' is less than or equal to 100 but greater than 10' )\n",
    "elif my_number <= 1000 :\n",
    "    print(my_number, ' is less than or equal to 1000 but greater than 100' )\n",
    "# put the rest in here."
   ]
  },
  {
   "cell_type": "markdown",
   "id": "7045f2cd",
   "metadata": {},
   "source": []
  }
 ],
 "metadata": {
  "kernelspec": {
   "display_name": "Python 3 (ipykernel)",
   "language": "python",
   "name": "python3"
  },
  "language_info": {
   "codemirror_mode": {
    "name": "ipython",
    "version": 3
   },
   "file_extension": ".py",
   "mimetype": "text/x-python",
   "name": "python",
   "nbconvert_exporter": "python",
   "pygments_lexer": "ipython3",
   "version": "3.9.15"
  }
 },
 "nbformat": 4,
 "nbformat_minor": 5
}
