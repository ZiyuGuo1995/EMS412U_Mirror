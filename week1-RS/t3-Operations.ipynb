{
 "cells": [
  {
   "cell_type": "markdown",
   "id": "atmospheric-gross",
   "metadata": {},
   "source": [
    "## Operations\n",
    "\n",
    "In this tutorial, we will go through some simple operations that will be vital to your python programming.\n",
    "\n",
    "### arithmetic operations\n",
    "You can use python to do everything that you use a standard calculator for, plus so much more. So let us start with some simple standard operations - adding, subtracting, multiplying and dividing. For these we use +, -, * and / respectively. Have a go at running the snippets of code below to get the hang of it (remember, click on the box so it is highlighted and hit the run button above). Change the numbers and try running again - just remember to start each line flush to the left hand side."
   ]
  },
  {
   "cell_type": "code",
   "execution_count": null,
   "id": "050aadcd",
   "metadata": {},
   "outputs": [],
   "source": [
    "4+3"
   ]
  },
  {
   "cell_type": "code",
   "execution_count": null,
   "id": "0933f116",
   "metadata": {},
   "outputs": [],
   "source": [
    "5-2"
   ]
  },
  {
   "cell_type": "code",
   "execution_count": null,
   "id": "1c9badfd",
   "metadata": {},
   "outputs": [],
   "source": [
    "5*5"
   ]
  },
  {
   "cell_type": "code",
   "execution_count": null,
   "id": "9be9308a",
   "metadata": {},
   "outputs": [],
   "source": [
    "25/3"
   ]
  },
  {
   "cell_type": "markdown",
   "id": "0fe6d418",
   "metadata": {},
   "source": [
    "Also, these operations can be applied to assigned variables."
   ]
  },
  {
   "cell_type": "code",
   "execution_count": 2,
   "id": "4d97fa49",
   "metadata": {},
   "outputs": [
    {
     "name": "stdout",
     "output_type": "stream",
     "text": [
      "7\n",
      "2.5\n",
      "10\n"
     ]
    }
   ],
   "source": [
    "a = 5\n",
    "b = 2\n",
    "\n",
    "print(a + b)\n",
    "print(a / b)\n",
    "c = a * b\n",
    "print(c)"
   ]
  },
  {
   "cell_type": "markdown",
   "id": "1d141b75",
   "metadata": {},
   "source": [
    "Now you have the hang of this, we can do some more involved maths using multiple operations at once. Brackets () can be used in python in the same way that you're used to with pen and paper. Try the lines below to see how it works, change the numbers and then re-run!"
   ]
  },
  {
   "cell_type": "code",
   "execution_count": null,
   "id": "bd2fedd0",
   "metadata": {},
   "outputs": [],
   "source": [
    "2*(4+4)"
   ]
  },
  {
   "cell_type": "code",
   "execution_count": null,
   "id": "f5da08bc",
   "metadata": {},
   "outputs": [],
   "source": [
    "(5+5)/5"
   ]
  },
  {
   "cell_type": "code",
   "execution_count": null,
   "id": "1b9a489a",
   "metadata": {},
   "outputs": [],
   "source": [
    "(5+5)/5 + 2*(4+4)"
   ]
  },
  {
   "cell_type": "markdown",
   "id": "7280c00a",
   "metadata": {},
   "source": [
    "Now it is your turn. If I have 10 bags, each containing 5 red balls and 3 green balls, can you write an expression that includes brackets () to calculate the total number of balls I have?"
   ]
  },
  {
   "cell_type": "code",
   "execution_count": null,
   "id": "3d0ccb5e",
   "metadata": {},
   "outputs": [],
   "source": []
  },
  {
   "cell_type": "markdown",
   "id": "5337d44f",
   "metadata": {},
   "source": [
    "Other important operations include powers, and for this we use ** notation. So, for example, the square of the number 4 is written:"
   ]
  },
  {
   "cell_type": "code",
   "execution_count": null,
   "id": "8831e82c",
   "metadata": {},
   "outputs": [],
   "source": [
    "4**2"
   ]
  },
  {
   "cell_type": "markdown",
   "id": "7a77fdb8",
   "metadata": {},
   "source": [
    "We can use this to calculate square roots - remembering that the root is a power to the half! So the square root of 2 is:"
   ]
  },
  {
   "cell_type": "code",
   "execution_count": null,
   "id": "2fb0e8b2",
   "metadata": {},
   "outputs": [],
   "source": [
    "2**0.5"
   ]
  },
  {
   "cell_type": "markdown",
   "id": "c2e339a9",
   "metadata": {},
   "source": [
    "Your turn! Can you calculate the lengths of the sides of a square with area 10cm^2?"
   ]
  },
  {
   "cell_type": "code",
   "execution_count": null,
   "id": "b7af3a95",
   "metadata": {},
   "outputs": [],
   "source": []
  },
  {
   "cell_type": "markdown",
   "id": "67c7788a",
   "metadata": {},
   "source": [
    "What might happen if you apply arithmetic operator to some other types of variables? For example, a string? The fact is some operators will be reloaded or reused to complete a different function, and some of them will produce an error. For example, if we add to strings, it will concate them."
   ]
  },
  {
   "cell_type": "code",
   "execution_count": 1,
   "id": "e4656171",
   "metadata": {},
   "outputs": [
    {
     "data": {
      "text/plain": [
       "'abcdef'"
      ]
     },
     "execution_count": 1,
     "metadata": {},
     "output_type": "execute_result"
    }
   ],
   "source": [
    "a='abc'\n",
    "b='def'\n",
    "a+b"
   ]
  },
  {
   "cell_type": "markdown",
   "id": "824dceb9",
   "metadata": {},
   "source": [
    "If we multiply a string with another number n, the string will be repeated for n times."
   ]
  },
  {
   "cell_type": "code",
   "execution_count": 2,
   "id": "9ee4fb79",
   "metadata": {},
   "outputs": [
    {
     "data": {
      "text/plain": [
       "'abcabcabc'"
      ]
     },
     "execution_count": 2,
     "metadata": {},
     "output_type": "execute_result"
    }
   ],
   "source": [
    "a='abc'\n",
    "a*3"
   ]
  },
  {
   "cell_type": "markdown",
   "id": "622f8d74",
   "metadata": {},
   "source": [
    "However, if we multiply two strings, it will produce an error. If your code went run in some cases, try to check if you used a correct data structure."
   ]
  },
  {
   "cell_type": "code",
   "execution_count": 3,
   "id": "ee3936e2",
   "metadata": {},
   "outputs": [
    {
     "ename": "TypeError",
     "evalue": "can't multiply sequence by non-int of type 'str'",
     "output_type": "error",
     "traceback": [
      "\u001b[0;31m---------------------------------------------------------------------------\u001b[0m",
      "\u001b[0;31mTypeError\u001b[0m                                 Traceback (most recent call last)",
      "\u001b[0;32m/var/folders/0d/lpbwfkcn1sj44nbvc2djlgvr0000gn/T/ipykernel_10579/2602441853.py\u001b[0m in \u001b[0;36m<module>\u001b[0;34m\u001b[0m\n\u001b[1;32m      1\u001b[0m \u001b[0ma\u001b[0m\u001b[0;34m=\u001b[0m\u001b[0;34m'abc'\u001b[0m\u001b[0;34m\u001b[0m\u001b[0;34m\u001b[0m\u001b[0m\n\u001b[1;32m      2\u001b[0m \u001b[0mb\u001b[0m\u001b[0;34m=\u001b[0m\u001b[0;34m'def'\u001b[0m\u001b[0;34m\u001b[0m\u001b[0;34m\u001b[0m\u001b[0m\n\u001b[0;32m----> 3\u001b[0;31m \u001b[0ma\u001b[0m\u001b[0;34m*\u001b[0m\u001b[0mb\u001b[0m\u001b[0;34m\u001b[0m\u001b[0;34m\u001b[0m\u001b[0m\n\u001b[0m",
      "\u001b[0;31mTypeError\u001b[0m: can't multiply sequence by non-int of type 'str'"
     ]
    }
   ],
   "source": [
    "a='abc'\n",
    "b='def'\n",
    "a*b"
   ]
  },
  {
   "cell_type": "markdown",
   "id": "bebfc309",
   "metadata": {},
   "source": [
    "### Comparison operations\n",
    "\n",
    "There are five commonly used comparison operators: >, <, ==, >=, <=. These operation will return True if the condition is met and False if the condition is not met. Note that when testing if two numbers are equal, you have to use '==' instead of '=' because '=' is an asignment expression."
   ]
  },
  {
   "cell_type": "code",
   "execution_count": 5,
   "id": "3edfdb94",
   "metadata": {},
   "outputs": [
    {
     "data": {
      "text/plain": [
       "True"
      ]
     },
     "execution_count": 5,
     "metadata": {},
     "output_type": "execute_result"
    }
   ],
   "source": [
    "4>=3"
   ]
  },
  {
   "cell_type": "code",
   "execution_count": 6,
   "id": "a3ad8fd1",
   "metadata": {},
   "outputs": [
    {
     "data": {
      "text/plain": [
       "False"
      ]
     },
     "execution_count": 6,
     "metadata": {},
     "output_type": "execute_result"
    }
   ],
   "source": [
    "3>4"
   ]
  },
  {
   "cell_type": "code",
   "execution_count": 7,
   "id": "cad90ded",
   "metadata": {},
   "outputs": [
    {
     "data": {
      "text/plain": [
       "True"
      ]
     },
     "execution_count": 7,
     "metadata": {},
     "output_type": "execute_result"
    }
   ],
   "source": [
    "6==6"
   ]
  },
  {
   "cell_type": "markdown",
   "id": "91df1c1d",
   "metadata": {},
   "source": [
    "Now, have a try. Using Python to determine which number is bigger, 3.14 or 2.72"
   ]
  },
  {
   "cell_type": "code",
   "execution_count": null,
   "id": "d291c2c0",
   "metadata": {},
   "outputs": [],
   "source": []
  }
 ],
 "metadata": {
  "kernelspec": {
   "display_name": "Python 3 (ipykernel)",
   "language": "python",
   "name": "python3"
  },
  "language_info": {
   "codemirror_mode": {
    "name": "ipython",
    "version": 3
   },
   "file_extension": ".py",
   "mimetype": "text/x-python",
   "name": "python",
   "nbconvert_exporter": "python",
   "pygments_lexer": "ipython3",
   "version": "3.9.15"
  }
 },
 "nbformat": 4,
 "nbformat_minor": 5
}
