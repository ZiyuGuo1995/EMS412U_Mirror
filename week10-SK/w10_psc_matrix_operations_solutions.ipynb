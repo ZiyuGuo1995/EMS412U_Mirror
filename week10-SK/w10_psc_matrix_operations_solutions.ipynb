{
 "cells": [
  {
   "cell_type": "markdown",
   "id": "6e9700c1",
   "metadata": {},
   "source": [
    "Q1: complete the code to form the identity matrix using a single loop\n"
   ]
  },
  {
   "cell_type": "code",
   "execution_count": 2,
   "id": "4bf7e66d",
   "metadata": {},
   "outputs": [
    {
     "name": "stdout",
     "output_type": "stream",
     "text": [
      "initial matrix\n",
      "[[0. 0. 0. 0. 0.]\n",
      " [0. 0. 0. 0. 0.]\n",
      " [0. 0. 0. 0. 0.]\n",
      " [0. 0. 0. 0. 0.]\n",
      " [0. 0. 0. 0. 0.]]\n",
      "(5, 5)\n",
      "[[1. 0. 0. 0. 0.]\n",
      " [0. 1. 0. 0. 0.]\n",
      " [0. 0. 1. 0. 0.]\n",
      " [0. 0. 0. 1. 0.]\n",
      " [0. 0. 0. 0. 1.]]\n",
      "[[1. 0. 0. 0. 0.]\n",
      " [0. 1. 0. 0. 0.]\n",
      " [0. 0. 1. 0. 0.]\n",
      " [0. 0. 0. 1. 0.]\n",
      " [0. 0. 0. 0. 1.]]\n"
     ]
    }
   ],
   "source": [
    "import numpy as np\n",
    "\n",
    "matrix = np.zeros([5,5])\n",
    "print('initial matrix')\n",
    "print(matrix)\n",
    "\n",
    "print(matrix.shape) # shows the dimensions of the matrix with 5 rows and 5 columns\n",
    "\n",
    "for i in range(matrix.shape[0]): # from 0 to the length of the rows i.e. range(5)\n",
    "    matrix[i][i] = 1 # diagonal at (0,0), (1,1), (2,2), etc i.e. row = column\n",
    "print(matrix)\n",
    "\n",
    "# Numpyu function way\n",
    "matrix=np.eye(5)\n",
    "print(matrix)"
   ]
  },
  {
   "cell_type": "markdown",
   "id": "d66efada",
   "metadata": {},
   "source": [
    "Q2:\n",
    "write a piece of code do perform the dot product of 2 vectors. i.e. given vectors u and v perform u.v "
   ]
  },
  {
   "cell_type": "code",
   "execution_count": 3,
   "id": "acdc3ec7",
   "metadata": {},
   "outputs": [
    {
     "name": "stdout",
     "output_type": "stream",
     "text": [
      "51\n",
      "51\n"
     ]
    }
   ],
   "source": [
    "import numpy as np\n",
    "\n",
    "u = np.array([6,4,3,5,4])\n",
    "v = np.array([1,2,2,3,4])\n",
    "\n",
    "# complete the code to do the dot product\n",
    "dotp = 0\n",
    "for i in range(u.shape[0]): # same as for i in range(v.shape[0]) as the dimensions of both vectors are the same\n",
    "    dotp += u[i] * v[i] # sums the product of each element\n",
    "print(dotp)\n",
    "\n",
    "dotp=np.dot(u,v)\n",
    "print(dotp)"
   ]
  },
  {
   "cell_type": "markdown",
   "id": "011ec137",
   "metadata": {},
   "source": [
    "Q3: write the code to perform the matrix vector multiplication b = Ax"
   ]
  },
  {
   "cell_type": "markdown",
   "id": "ff6f8b18",
   "metadata": {},
   "source": [
    "$ A = \\begin{bmatrix}\n",
    "4 & 2 & 1\\\\ \n",
    "1 & 3 & 1\\\\ \n",
    "2 & 3 & 6\n",
    "\\end{bmatrix},  x = \\begin{bmatrix}\n",
    "4 \\\\ \n",
    "3 \\\\ \n",
    "2 \\\\\n",
    "\\end{bmatrix}$"
   ]
  },
  {
   "cell_type": "markdown",
   "id": "5f59c35d",
   "metadata": {},
   "source": [
    "Multiplying each row of matrix A by the row vector x."
   ]
  },
  {
   "cell_type": "markdown",
   "id": "20078848",
   "metadata": {},
   "source": [
    "$ \\therefore b = \\begin{bmatrix}\n",
    "24\\\\ \n",
    "15\\\\ \n",
    "29\n",
    "\\end{bmatrix} $"
   ]
  },
  {
   "cell_type": "code",
   "execution_count": 4,
   "id": "d6f6dd26",
   "metadata": {},
   "outputs": [
    {
     "name": "stdout",
     "output_type": "stream",
     "text": [
      "[[24.]\n",
      " [15.]\n",
      " [29.]]\n",
      "[[24]\n",
      " [15]\n",
      " [29]]\n"
     ]
    }
   ],
   "source": [
    "import numpy as np\n",
    "# set up the matrix and vector\n",
    "A = np.array([[4,2,1],[1,3,1],[2,3,6]])\n",
    "x = np.array([[4],[3],[2]])\n",
    "\n",
    "Row=A.shape[0] # A.shape will find the total number of rows\n",
    "Column=A.shape[1] # A.shape will find the total number of colums\n",
    "\n",
    "## write your code here. create a vector b and calculate the values \n",
    "b = np.zeros([3,1])\n",
    "for i in range(Row): # iterating through rows\n",
    "    for j in range(Column): # iterating through columns\n",
    "        b[i] += A[i][j] * x[j] \n",
    "print(b)\n",
    "\n",
    "b=np.matmul(A,x)\n",
    "print(b)"
   ]
  },
  {
   "cell_type": "markdown",
   "id": "bf64b860",
   "metadata": {},
   "source": [
    "Q4: compute the matrix-matrix multiplication of A and B below - not the dimensions I have set!\n",
    "\n"
   ]
  },
  {
   "cell_type": "markdown",
   "id": "57209b56",
   "metadata": {},
   "source": [
    "$ A \\cdot B = \\begin{bmatrix}\n",
    "4 & 2 & 1\\\\ \n",
    "1 & 3 & 1\\\\ \n",
    "2 & 3 & 6\n",
    "\\end{bmatrix} \\cdot \n",
    "\\begin{bmatrix}\n",
    "4 & 3 \\\\ \n",
    "4 & 5 \\\\ \n",
    "1 & 1 \n",
    "\\end{bmatrix} = \n",
    "\\begin{bmatrix}\n",
    "25 & 23 \\\\ \n",
    "17 & 19\\\\ \n",
    "26 & 27 \n",
    "\\end{bmatrix} $"
   ]
  },
  {
   "cell_type": "code",
   "execution_count": 6,
   "id": "3f60f8c7",
   "metadata": {},
   "outputs": [
    {
     "name": "stdout",
     "output_type": "stream",
     "text": [
      "A:\n",
      "[[4 2 1]\n",
      " [1 3 1]\n",
      " [2 3 6]]\n",
      "B:\n",
      "[[4 3]\n",
      " [4 5]\n",
      " [1 1]]\n",
      "[[25. 23.]\n",
      " [17. 19.]\n",
      " [26. 27.]]\n",
      "[[25 23]\n",
      " [17 19]\n",
      " [26 27]]\n"
     ]
    }
   ],
   "source": [
    "import numpy as np\n",
    "# set up the matrix and vector\n",
    "A = np.array([[4,2,1],[1,3,1],[2,3,6]])\n",
    "B = np.array([[4,3],[4,5],[1,1]])\n",
    "\n",
    "print('A:')\n",
    "print(A)\n",
    "\n",
    "print('B:')\n",
    "print(B)\n",
    "\n",
    "# multiplying (3 x 3) matrix with (3 x 2) matrix, resulting matrix will be (3 x 2)\n",
    "# creating an empty matrix\n",
    "prod = np.zeros([3,2])\n",
    "\n",
    "for i in range(A.shape[0]): # iterating through rows of A\n",
    "    for j in range(B.shape[1]): # iterating through columns of B\n",
    "        for k in range(B.shape[0]): # iterating through rows of B\n",
    "            prod[i][j] += A[i][k] * B[k][j] # finding the dot product to get resultant matrix element\n",
    "print(prod)\n",
    "\n",
    "prod=np.matmul(A,B)\n",
    "print(prod)"
   ]
  },
  {
   "cell_type": "code",
   "execution_count": null,
   "id": "cce7c6e7-5159-4024-89f0-3aea525f4195",
   "metadata": {},
   "outputs": [],
   "source": []
  }
 ],
 "metadata": {
  "kernelspec": {
   "display_name": "Python 3 (ipykernel)",
   "language": "python",
   "name": "python3"
  },
  "language_info": {
   "codemirror_mode": {
    "name": "ipython",
    "version": 3
   },
   "file_extension": ".py",
   "mimetype": "text/x-python",
   "name": "python",
   "nbconvert_exporter": "python",
   "pygments_lexer": "ipython3",
   "version": "3.10.13"
  }
 },
 "nbformat": 4,
 "nbformat_minor": 5
}
