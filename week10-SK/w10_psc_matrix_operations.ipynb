{
 "cells": [
  {
   "cell_type": "markdown",
   "metadata": {},
   "source": [
    "Q1: complete the code to form the identity matrix using a single loop\n"
   ]
  },
  {
   "cell_type": "code",
   "execution_count": 5,
   "metadata": {},
   "outputs": [
    {
     "name": "stdout",
     "output_type": "stream",
     "text": [
      "initial matrix\n",
      "[[0. 0. 0. 0. 0.]\n",
      " [0. 0. 0. 0. 0.]\n",
      " [0. 0. 0. 0. 0.]\n",
      " [0. 0. 0. 0. 0.]\n",
      " [0. 0. 0. 0. 0.]]\n",
      "identity matrix\n",
      "[[0. 0. 0. 0. 0.]\n",
      " [0. 0. 0. 0. 0.]\n",
      " [0. 0. 0. 0. 0.]\n",
      " [0. 0. 0. 0. 0.]\n",
      " [0. 0. 0. 0. 0.]]\n",
      "[[1. 0. 0. 0. 0.]\n",
      " [0. 1. 0. 0. 0.]\n",
      " [0. 0. 1. 0. 0.]\n",
      " [0. 0. 0. 1. 0.]\n",
      " [0. 0. 0. 0. 1.]]\n"
     ]
    }
   ],
   "source": [
    "import numpy as np\n",
    "\n",
    "matrix = np.zeros([5,5])\n",
    "print('initial matrix')\n",
    "print(matrix)\n",
    "\n",
    "# write a loop to form the idenity matrix\n",
    "\n",
    "# print it out\n",
    "print('identity matrix')\n",
    "print(matrix)\n",
    "\n"
   ]
  },
  {
   "cell_type": "markdown",
   "metadata": {},
   "source": [
    "Q2:\n",
    "write a piece of code do perform the dot product of 2 vectors. i.e. given vectors u and v perform u.v "
   ]
  },
  {
   "cell_type": "code",
   "execution_count": 3,
   "metadata": {},
   "outputs": [
    {
     "name": "stdout",
     "output_type": "stream",
     "text": [
      "numpy dot product is  51\n"
     ]
    }
   ],
   "source": [
    "import numpy as np\n",
    "\n",
    "u = np.array([6,4,3,5,4])\n",
    "v = np.array([1,2,2,3,4])\n",
    "\n",
    "# complete the code to do the dot porduct.\n",
    "\n"
   ]
  },
  {
   "attachments": {
    "image.png": {
     "image/png": "[encoded data removed]"
    }
   },
   "cell_type": "markdown",
   "metadata": {},
   "source": [
    "Q3: write the code to perform the matrix vector multiplication b = Ax，\n",
    "\n",
    "![image.png](attachment:image.png)\n",
    "\n",
    "$ A = \\begin{bmatrix}\n",
    "4 & 2 & 1\\\\ \n",
    "1 & 3 & 1\\\\ \n",
    "2 & 3 & 6\n",
    "\\end{bmatrix},  x = \\begin{bmatrix}\n",
    "4 \\\\ \n",
    "3 \\\\ \n",
    "2 \\\\\n",
    "\\end{bmatrix}$\n",
    "\n",
    "Multiplying each row of matrix A by the row vector x.\n"
   ]
  },
  {
   "cell_type": "code",
   "execution_count": 18,
   "metadata": {},
   "outputs": [
    {
     "name": "stdout",
     "output_type": "stream",
     "text": [
      "[[4]\n",
      " [3]\n",
      " [2]]\n",
      "[[24]\n",
      " [15]\n",
      " [29]]\n"
     ]
    }
   ],
   "source": [
    "import numpy as np\n",
    "# set up the matrix and vector\n",
    "A = np.array([[4,2,1],[1,3,1],[2,3,6]])\n",
    "x = np.array([[4],[3],[2]])\n",
    "\n",
    "Row=A.shape[0] # A.shape will find the total number of rows\n",
    "Column=A.shape[1] # A.shape will find the total number of colums\n",
    "\n",
    "# write your code here. create a vector b and calculate the values \n",
    "# use a for loop to achieve the calculation, you cannot use A*x. \n",
    "b = np.zeros([3,1])\n",
    "for i in range(Row): # iterating through rows\n",
    "    for j in range(Column): # iterating through columns\n",
    "        ## YOUR CODE ###\n",
    "\n",
    "\n"
   ]
  },
  {
   "cell_type": "markdown",
   "metadata": {},
   "source": [
    "Q4: compute the matrix-matrix multiplication of A and B below - not the dimensions I have set!\n",
    "\n"
   ]
  },
  {
   "cell_type": "code",
   "execution_count": 4,
   "metadata": {},
   "outputs": [
    {
     "name": "stdout",
     "output_type": "stream",
     "text": [
      "A:\n",
      "[[4 2 1]\n",
      " [1 3 1]\n",
      " [2 3 6]]\n",
      "B:\n",
      "[[4 3]\n",
      " [4 5]\n",
      " [1 1]]\n"
     ]
    }
   ],
   "source": [
    "import numpy as np\n",
    "# set up the matrix and vector\n",
    "A = np.array([[4,2,1],[1,3,1],[2,3,6]])\n",
    "B = np.array([[4,3],[4,5],[1,1]])\n",
    "\n",
    "print('A:')\n",
    "print(A)\n",
    "\n",
    "print('B:')\n",
    "print(B)\n",
    "\n",
    "# you do the rest.\n"
   ]
  },
  {
   "cell_type": "code",
   "execution_count": null,
   "metadata": {},
   "outputs": [],
   "source": []
  }
 ],
 "metadata": {
  "kernelspec": {
   "display_name": "Python 3",
   "language": "python",
   "name": "python3"
  },
  "language_info": {
   "codemirror_mode": {
    "name": "ipython",
    "version": 3
   },
   "file_extension": ".py",
   "mimetype": "text/x-python",
   "name": "python",
   "nbconvert_exporter": "python",
   "pygments_lexer": "ipython3",
   "version": "3.8.5"
  }
 },
 "nbformat": 4,
 "nbformat_minor": 5
}
