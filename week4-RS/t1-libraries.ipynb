{
 "cells": [
  {
   "cell_type": "markdown",
   "metadata": {},
   "source": [
    "One of the last things to cover before we will start doing some interesting and useful computations is to introduce you to Python libraries. Libraries are pertinent to all computing languages, python included, and during your degree, you will be introduced to some of the main ones to get you up and running with some engineering problems.\n",
    "\n",
    "Libraries are essentially a suite of pre-built functions that will perform some class of operations that are commonly used in programming languages. Essentially these are tools that have been created by someone else so you don't have to, you just pick them up and use them!\n",
    "\n",
    "There are thousands of libraries available in Python doing all types of different operations. Later in this module, you will be introduced to a \"linear algebra\" library that allows you to create matrices and vectors of any size and do all the multiplication and operations that you may have seen in your A-levels (don't worry if not) in a split second. But there are so many others that are so useful, including libraries that visualize and process data in much the same way as you may have done in Excel, there are other where you can get up and running with AI and machine learning in a very short space of time (perhaps for your 3rd year project??). \n",
    "\n",
    "In this exercise, I will introduce you to the math library. This allows you to perform all the math operations that you see on your calculator.\n",
    "\n",
    "When we want to use a particular library we have to load them up before using them. To do this we use the \"import\" command, and again it is best to show you by example."
   ]
  },
  {
   "cell_type": "code",
   "execution_count": null,
   "metadata": {},
   "outputs": [
    {
     "name": "stdout",
     "output_type": "stream",
     "text": [
      "value of pi is:  3.141592653589793\n"
     ]
    }
   ],
   "source": [
    "# import the math library\n",
    "import math\n",
    "\n",
    "# let's use the math library to get the value of pi.\n",
    "pi = math.pi\n",
    "print('value of pi is: ',pi)\n",
    "\n"
   ]
  },
  {
   "cell_type": "markdown",
   "metadata": {},
   "source": [
    "To get going we start by importing the math library. For this we use the \"import math\" command at the beginning as shown in line 2.\n",
    "\n",
    "Now to access the operations inside the math library we use the format \"math.FUNCTION_NAME \" where FUNCTION_NAME is the name of the function you want to perform (this will become clear below). The math library contains loads of functions, and later on you can go to this webpage to see the different things available:\n",
    "\n",
    "https://docs.python.org/3/library/math.html\n",
    "\n",
    "But to get started  we used the math.pi function that gives us the value of pi. To retrieve this we used math.pi, and you will see in the programme above that we have set up a variable, which we called called pi, to contain this value.\n",
    "\n",
    "Now pi is within the math library as it is a very important number for all that we do. Using math.pi means we don't have to keep writing out its value every time we want it, it also means you wont make mistakes when writing out the number - which will bug your code!!! so be warned - use it!!!!\n",
    "\n",
    "But what about other functions, look at how we can use the trig functions in the following example."
   ]
  },
  {
   "cell_type": "code",
   "execution_count": null,
   "metadata": {},
   "outputs": [
    {
     "name": "stdout",
     "output_type": "stream",
     "text": [
      "our angle is:  0.7853981633974483\n",
      "trig values are:  0.7071067811865475 0.7071067811865476 0.9999999999999999\n",
      "reconstructed angles:  0.7853981633974482 0.7853981633974483 0.7853981633974483\n"
     ]
    }
   ],
   "source": [
    "# let's use some trig functions\n",
    "# note these work in radians!!\n",
    "# import the math library\n",
    "import math\n",
    "# crete some angle to get the trig values of.\n",
    "angle = math.pi/4.\n",
    "\n",
    "print('our angle is: ',angle)\n",
    "\n",
    "# how to get the sine value\n",
    "s = math.sin(angle)\n",
    "# how to get the cosine\n",
    "c = math.cos(angle)\n",
    "# and the tan\n",
    "t = math.tan(angle)\n",
    "# now print them out\n",
    "print('trig values are: ',s,c,t)\n",
    "\n",
    "# now lets revese these by using the arc cosine/sine/tangent, to get back to our original angle\n",
    "\n",
    "arcs = math.asin(s)\n",
    "arcc = math.acos(c)\n",
    "arct = math.atan(t)\n",
    "\n",
    "print('reconstructed angles: ',arcs, arcc, arct)\n",
    "\n",
    "\n"
   ]
  },
  {
   "cell_type": "markdown",
   "metadata": {},
   "source": [
    "Look how we can use the math library for exponential and log functions.\n"
   ]
  },
  {
   "cell_type": "code",
   "execution_count": null,
   "metadata": {},
   "outputs": [
    {
     "name": "stdout",
     "output_type": "stream",
     "text": [
      "the exponential and logs are:  7.38905609893065 0.6931471805599453\n"
     ]
    }
   ],
   "source": [
    "# import the math library\n",
    "import math\n",
    "\n",
    "# set up a variable with some number.\n",
    "my_number = 2.0\n",
    "ex_number = math.exp(my_number)\n",
    "ln_number = math.log(my_number)\n",
    "\n",
    "print('the exponential and logs are: ',ex_number, ln_number)\n"
   ]
  },
  {
   "cell_type": "markdown",
   "metadata": {},
   "source": [
    "and other things like factorial for example\n"
   ]
  },
  {
   "cell_type": "code",
   "execution_count": null,
   "metadata": {},
   "outputs": [
    {
     "name": "stdout",
     "output_type": "stream",
     "text": [
      "factorial =  720\n"
     ]
    }
   ],
   "source": [
    "# import the math library\n",
    "import math\n",
    "fact = math.factorial(6)\n",
    "print('factorial = ',fact)"
   ]
  },
  {
   "cell_type": "markdown",
   "id": "200cf7e5",
   "metadata": {},
   "source": [
    "The import sentence can be used in some other ways too. For example, you can import some library and 'rename' it in your program, or you can only import a part of a library. The following are examples of this."
   ]
  },
  {
   "cell_type": "code",
   "execution_count": null,
   "id": "59af5894",
   "metadata": {},
   "outputs": [],
   "source": [
    "import math as mth      # import math library and give it a short name\n",
    "print(mth.pi)"
   ]
  },
  {
   "cell_type": "code",
   "execution_count": null,
   "id": "dbdce26b",
   "metadata": {},
   "outputs": [],
   "source": [
    "from math import pi     # import just the pi constant from the math library\n",
    "print(pi)"
   ]
  },
  {
   "cell_type": "markdown",
   "metadata": {},
   "source": [
    "this is enough to get going now. But check out the link above to see whatelse is available"
   ]
  },
  {
   "cell_type": "markdown",
   "id": "9c49ad50",
   "metadata": {},
   "source": [
    "Finally, I will list some widely used libraries for engineers here. Some of them will be used in this module.\n",
    "\n",
    "Numpy: NumPy is a library used for matrices. It supports large, multi-dimensional arrays and matrices, along with a large collection of high-level mathematical functions to operate on these arrays. This library can be used in numerical computing due to its high efficiency.\n",
    "\n",
    "Scipy: SciPy is a Python library used for scientific computing and technical computing. It contains modules for optimization, linear algebra, integration, interpolation, special functions, FFT, signal and image processing, ODE solvers and other tasks common in science and engineering.\n",
    "\n",
    "Sympy: SymPy is a library for symbolic computation. It provides computer algebra capabilities to Python. SymPy includes features ranging from basic symbolic arithmetic to calculus, algebra, discrete mathematics, and quantum physics.\n",
    "\n",
    "Matplotlib: Matplotlib is a plotting library for the Python programming language. It provides various plottings like scatter, line plots, and statistical plots. This is a powerful tool in data visualisation in engineering, and we will use this for data visualisation in this module.\n"
   ]
  },
  {
   "cell_type": "markdown",
   "id": "d4647508",
   "metadata": {},
   "source": []
  }
 ],
 "metadata": {
  "kernelspec": {
   "display_name": "Python 3",
   "language": "python",
   "name": "python3"
  },
  "language_info": {
   "codemirror_mode": {
    "name": "ipython",
    "version": 3
   },
   "file_extension": ".py",
   "mimetype": "text/x-python",
   "name": "python",
   "nbconvert_exporter": "python",
   "pygments_lexer": "ipython3",
   "version": "3.8.5"
  }
 },
 "nbformat": 4,
 "nbformat_minor": 5
}
