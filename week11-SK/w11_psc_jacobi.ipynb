{
 "cells": [
  {
   "cell_type": "markdown",
   "id": "0d38b8ae",
   "metadata": {},
   "source": [
    "## Week 11-PSC-the introduction of Jacobi Method:\n",
    "\n",
    "In this PSC you are going to develop a solver for the system\n",
    "\n",
    "$$Ax = b$$\n",
    "\n",
    "that is, given a $n \\times n$ matrix A and a right-hand-side (RHS) vector $b$, of size $n$. you need to compute the solution vector $x$ (which is also of size $n$).\n",
    "\n",
    "From class you will know that computing the inverse of $A$ and multiplying against $b$ gives you this solution. That is,\n",
    "\n",
    "$$ x = A^{-1}b$$\n",
    "\n",
    "This is called a direct method, but sometimes the inverse of $A$ is very difficult to find, sometimes it is impossible to compute, so we have developed alternative routes to solving the system without creating the inverse itself.\n",
    "\n",
    "Iterative methods are typically used to solve these systems. In these we start with an approximation to $x$, and perform some operation to generate a new vector $x^{new}$ that is a bit closer to the true solution. You repeat the operation with the new vector and it gives you another vector that is again a bit closer to the true solution.\n",
    "\n",
    "When you do this enough times, the approximation will converge to the true solution. When you are close enough, you simply stop the iteration. \n",
    "\n",
    "There is a massive class of iterative solvers out there. We will develop the simplest one called the Jacobi method.The recipe is as follows:\n",
    "\n",
    "For the system of size $n \\times n$\n",
    "\n",
    "$$Ax = b$$\n",
    "\n",
    "start with some approximation $x$. The Jacobi iteration creates a new vector $x^{1}$ by:\n",
    "\n",
    "\n",
    "loop over each element of $x_i$ for $i = \\{ 1,2,3, \\ldots n \\}$, and compute the new value by:\n",
    "\n",
    "$$ x_i^{new} = \\frac{(b_i - \\sum_{j=1, j \\ne i}^{n} A_{i,j} x_j )}{A_{i,i}} $$\n",
    "\n",
    "\n"
   ]
  },
  {
   "cell_type": "markdown",
   "id": "68e83522",
   "metadata": {},
   "source": [
    "<!-- ![image-3.png](attachment:image-3.png)\n",
    "\n",
    "![image-2.png](attachment:image-2.png)\n",
    "![image.png](attachment:image.png)\n",
    " -->\n",
    "You need to set a tolerance, TOL (can be a very small value 0.1).\n",
    "\n",
    "You keep subtituting the $x_j$ from the previous step to calculate the $x_i^{new}$ in the new step. Loop it until you reach the stopping criterion. \n",
    "\n",
    "$|x_i^{k-1}-x_i^{k}|<TOL$\n",
    "\n",
    "which means the values $x_i$ is not changing anymore. \n",
    "\n",
    "Watch this video if want to understand it better: https://www.youtube.com/watch?v=UA7bzwCwHMI"
   ]
  },
  {
   "cell_type": "markdown",
   "id": "5f52f029",
   "metadata": {},
   "source": [
    "You are going to implement this. but you need to do this in small stages and check the code is correct and bug free.\n",
    "\n",
    "To give you a start, this is how I would develop the code when given some matrix $A$ and vector $b$\n",
    "\n",
    "1) create the loop that will run through each x[i] in the above recipe - make sure the loop is the correct size.\n",
    "\n",
    "2) create the line of code to compute x[i] from the above equation - note this will involve another loop AND an if statement.\n",
    "\n",
    "3) when happy the above is correct, create an outer loop to continuously generate new solutions from the previous vector.\n",
    "\n",
    "Over to you, i will get you stated with the matrix and vector setup."
   ]
  },
  {
   "cell_type": "code",
   "execution_count": null,
   "id": "6fb34071",
   "metadata": {},
   "outputs": [],
   "source": [
    "import numpy as np\n",
    "\n",
    "# a 3x3 matrix A\n",
    "A = np.matrix([[5,2,1],[2,4,1],[2,3,7]])\n",
    "# b vector\n",
    "b = np.array([2,3,1])\n",
    "# x vector to hold solution with initial values zero\n",
    "x = np.zeros(3)\n",
    "\n",
    "# put your code in here, follow the recipe above\n",
    "\n"
   ]
  },
  {
   "cell_type": "code",
   "execution_count": null,
   "id": "05bbe5f4",
   "metadata": {},
   "outputs": [],
   "source": []
  },
  {
   "cell_type": "code",
   "execution_count": null,
   "id": "15bbf005",
   "metadata": {},
   "outputs": [],
   "source": []
  }
 ],
 "metadata": {
  "kernelspec": {
   "display_name": "Python 3 (ipykernel)",
   "language": "python",
   "name": "python3"
  },
  "language_info": {
   "codemirror_mode": {
    "name": "ipython",
    "version": 3
   },
   "file_extension": ".py",
   "mimetype": "text/x-python",
   "name": "python",
   "nbconvert_exporter": "python",
   "pygments_lexer": "ipython3",
   "version": "3.9.15"
  }
 },
 "nbformat": 4,
 "nbformat_minor": 5
}
