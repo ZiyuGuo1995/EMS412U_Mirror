{
 "cells": [
  {
   "cell_type": "markdown",
   "metadata": {},
   "source": [
    "## Week 11-Matrix operations"
   ]
  },
  {
   "cell_type": "markdown",
   "metadata": {},
   "source": [
    "In this tutorial I am going to show you the quick tools to do all the previous operations using numpy!!\n",
    "\n",
    "You can do everything using one command in numpy, This tutorial will show you the following:\n",
    "\n",
    "h = f+g   to add vectors or matrices\n",
    "\n",
    "np.ident(n) to create an identity matrix of size nxn\n",
    "\n",
    "np.dot(u,v)  to compute the dot product of vectors u and v\n",
    "\n",
    "np.matmul(A,x)  to compute the matrix vector multiplication Ax\n",
    "\n",
    "np.matmul(A,B)  to compute the matrix matrix multiplication AB\n",
    "\n"
   ]
  },
  {
   "cell_type": "markdown",
   "metadata": {},
   "source": [
    "I have recorded a video guide for this week. It is partparticularly helpful on the Jacobi method:\n",
    "    \n",
    "https://youtu.be/nkvd9Qt-ka4"
   ]
  },
  {
   "cell_type": "code",
   "execution_count": 1,
   "metadata": {},
   "outputs": [
    {
     "name": "stdout",
     "output_type": "stream",
     "text": [
      "f:  [1 2 4]\n",
      "g:  [3 1 2]\n",
      "the sum is: \n",
      "[4 3 6]\n"
     ]
    }
   ],
   "source": [
    "#\n",
    "import numpy as np\n",
    "\n",
    "# create 2 vectors called f anf g, just give them some numbers.\n",
    "f = np.array([1,2,4])\n",
    "g = np.array([3,1,2])\n",
    "\n",
    "print('f: ',f)\n",
    "print('g: ',g)\n",
    "\n",
    "# and now add the up and assign it to a variable called h\n",
    "\n",
    "h = f+g\n",
    "\n",
    "print('the sum is: ')\n",
    "print(h)\n",
    "\n"
   ]
  },
  {
   "cell_type": "markdown",
   "metadata": {},
   "source": [
    "same thing for the matrix addition!\n"
   ]
  },
  {
   "cell_type": "code",
   "execution_count": 2,
   "metadata": {},
   "outputs": [
    {
     "name": "stdout",
     "output_type": "stream",
     "text": [
      "matrix sum\n",
      "[[0 0 0]\n",
      " [0 0 0]\n",
      " [0 0 0]\n",
      " [0 0 0]]\n"
     ]
    }
   ],
   "source": [
    "import numpy as np\n",
    "\n",
    "# create two matrices as before\n",
    "mat1 = np.array([[1,2,3],[4,5,6],[7,8,9],[10,11,12]])\n",
    "mat2 = np.array([[-1,-2,-3],[-4,-5,-6],[-7,-8,-9],[-10,-11,-12]])\n",
    "\n",
    "# add them up! - note it should come to xeros with these two matrices\n",
    "matsum = mat1+mat2\n",
    "print('matrix sum')\n",
    "print(matsum)\n"
   ]
  },
  {
   "cell_type": "markdown",
   "metadata": {},
   "source": [
    "create an identity matrix of some size we use:"
   ]
  },
  {
   "cell_type": "code",
   "execution_count": 3,
   "metadata": {},
   "outputs": [
    {
     "name": "stdout",
     "output_type": "stream",
     "text": [
      "identity matrix\n",
      "[[1. 0. 0. 0. 0.]\n",
      " [0. 1. 0. 0. 0.]\n",
      " [0. 0. 1. 0. 0.]\n",
      " [0. 0. 0. 1. 0.]\n",
      " [0. 0. 0. 0. 1.]]\n"
     ]
    }
   ],
   "source": [
    "import numpy as np\n",
    "# now compare your codes to using the numpy tools to do the above\n",
    "# create a 5x5 identity matrix\n",
    "im = np.identity(5)\n",
    "print('identity matrix')\n",
    "print(im)\n",
    "\n"
   ]
  },
  {
   "cell_type": "markdown",
   "metadata": {},
   "source": [
    "and what about dot products of vectors:\n",
    "\n",
    "Dot product calculates the sum of the two vectors’ multiplied elements. Dot Product returns a scalar number as a result. The dot product is useful in calculating the projection of vectors. Dot product in Python also determines orthogonality and vector decompositions. \n",
    "\n",
    "The dot product of two vectors a = [a1, a2, …, an] and b = [b1, b2, …, bn] is defined as:\n",
    "\n",
    "${\\displaystyle \\mathbf {\\color {red}a} \\cdot \\mathbf {\\color {blue}b} =\\sum _{i=1}^{n}{\\color {red}a}_{i}{\\color {blue}b}_{i}={\\color {red}a}_{1}{\\color {blue}b}_{1}+{\\color {red}a}_{2}{\\color {blue}b}_{2}+\\cdots +{\\color {red}a}_{n}{\\color {blue}b}_{n}}{\\displaystyle \\mathbf {\\color {red}a} \\cdot \\mathbf {\\color {blue}b} =\\sum _{i=1}^{n}{\\color {red}a}_{i}{\\color {blue}b}_{i}={\\color {red}a}_{1}{\\color {blue}b}_{1}+{\\color {red}a}_{2}{\\color {blue}b}_{2}+\\cdots +{\\color {red}a}_{n}{\\color {blue}b}_{n}}$"
   ]
  },
  {
   "cell_type": "code",
   "execution_count": 4,
   "metadata": {},
   "outputs": [
    {
     "name": "stdout",
     "output_type": "stream",
     "text": [
      "numpy dot product is  51\n"
     ]
    }
   ],
   "source": [
    "# do a dot product\n",
    "u = np.array([6,4,3,5,4])\n",
    "v = np.array([1,2,2,3,4])\n",
    "dp = np.dot(u,v)\n",
    "print('numpy dot product is ',dp)\n",
    "\n"
   ]
  },
  {
   "cell_type": "markdown",
   "metadata": {},
   "source": [
    "finally the matrix vector and matrix -matrix multiplications can be performed in one command\n"
   ]
  },
  {
   "cell_type": "code",
   "execution_count": 5,
   "metadata": {},
   "outputs": [
    {
     "name": "stdout",
     "output_type": "stream",
     "text": [
      "matrix multiply vector\n",
      "[24 15 29]\n",
      "matrix multiply matrix \n",
      "[[20 17 12]\n",
      " [ 9 14 10]\n",
      " [23 31 41]]\n"
     ]
    }
   ],
   "source": [
    "# create two matrices\n",
    "A = np.array([[4,2,1],[1,3,1],[2,3,6]])\n",
    "B = np.array([[4,2,1],[1,3,1],[2,3,6]])\n",
    "# and some vector x\n",
    "x = np.array([4,3,2])\n",
    "\n",
    "# the matrix vector product can be computed by:\n",
    "b = np.matmul(A,x)\n",
    "print('matrix multiply vector')\n",
    "print(b)\n",
    "\n",
    "# the matrix matrix product can be computed using the same command:\n",
    "\n",
    "C = np.matmul(A,B)\n",
    "print('matrix multiply matrix ')\n",
    "print(C)\n"
   ]
  },
  {
   "cell_type": "code",
   "execution_count": null,
   "metadata": {},
   "outputs": [],
   "source": []
  }
 ],
 "metadata": {
  "kernelspec": {
   "display_name": "Python 3",
   "language": "python",
   "name": "python3"
  },
  "language_info": {
   "codemirror_mode": {
    "name": "ipython",
    "version": 3
   },
   "file_extension": ".py",
   "mimetype": "text/x-python",
   "name": "python",
   "nbconvert_exporter": "python",
   "pygments_lexer": "ipython3",
   "version": "3.8.5"
  }
 },
 "nbformat": 4,
 "nbformat_minor": 5
}
