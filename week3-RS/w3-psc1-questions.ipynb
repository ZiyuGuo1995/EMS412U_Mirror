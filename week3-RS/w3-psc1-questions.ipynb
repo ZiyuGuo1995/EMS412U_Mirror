{
 "cells": [
  {
   "cell_type": "markdown",
   "id": "72d3659c",
   "metadata": {},
   "source": [
    "Q1: add in the remainder of the code below to print the cubed value of a number"
   ]
  },
  {
   "cell_type": "code",
   "execution_count": null,
   "id": "94993758",
   "metadata": {},
   "outputs": [],
   "source": [
    "def calculate_cube(number):\n",
    "    # put your code here\n",
    "\n",
    "\n",
    "my_number = 5 # this is the value to cube.\n",
    "calculate_cube(my_number)"
   ]
  },
  {
   "cell_type": "markdown",
   "id": "f5a2a77f",
   "metadata": {},
   "source": [
    "Q2: Adjust the nested loop statements to print only the even values of the 12 times table."
   ]
  },
  {
   "cell_type": "code",
   "execution_count": null,
   "id": "776c2ea8",
   "metadata": {},
   "outputs": [],
   "source": [
    "\n",
    "for a in range(1,13):\n",
    "    for b in range(1,13):\n",
    "        c = a*b\n",
    "        print(a,' times ',b,' = ',c)\n"
   ]
  },
  {
   "cell_type": "markdown",
   "id": "b279cf25",
   "metadata": {},
   "source": [
    "Q3: Use the code above to form a function called \"times_tables\" that reads in two number (n,m) and prints out all cominations of products a.b for a=1,2,...n and b=1,2,...m\n"
   ]
  },
  {
   "cell_type": "code",
   "execution_count": null,
   "id": "f0855a6e",
   "metadata": {},
   "outputs": [],
   "source": [
    "def times_tables(n,m):\n",
    "    # put your code here\n",
    "\n",
    "\n",
    "# call the function\n",
    "n = 12\n",
    "m =12\n",
    "times_tables(n,m)\n"
   ]
  },
  {
   "cell_type": "markdown",
   "id": "f8bc2dff",
   "metadata": {},
   "source": [
    "Q4: form a function that RETURNS the roots of a quadratic function. (assuming they are real valued)\n",
    "\n",
    "\n",
    "\n"
   ]
  },
  {
   "cell_type": "code",
   "execution_count": null,
   "id": "7047ed8c",
   "metadata": {},
   "outputs": [],
   "source": [
    "def quadratic_roots(a,b,c):\n",
    "    # put your code here to calculate roots of ax^2 + bx + c = 0\n",
    "    \n",
    "    return root1, root2\n",
    "\n",
    "a=2\n",
    "b=4\n",
    "c=1\n",
    "\n",
    "r1,r2 = times_tables(a,b,c)\n",
    "print()"
   ]
  }
 ],
 "metadata": {
  "kernelspec": {
   "display_name": "Python 3 (ipykernel)",
   "language": "python",
   "name": "python3"
  },
  "language_info": {
   "codemirror_mode": {
    "name": "ipython",
    "version": 3
   },
   "file_extension": ".py",
   "mimetype": "text/x-python",
   "name": "python",
   "nbconvert_exporter": "python",
   "pygments_lexer": "ipython3",
   "version": "3.9.15"
  }
 },
 "nbformat": 4,
 "nbformat_minor": 5
}
